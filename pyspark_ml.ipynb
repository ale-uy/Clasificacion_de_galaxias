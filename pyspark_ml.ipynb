{
 "cells": [
  {
   "cell_type": "markdown",
   "metadata": {},
   "source": [
    "# Aplicaremos Analisis de Componentes Principales \n",
    "## (PCA por sus siglas en ingles)"
   ]
  },
  {
   "cell_type": "markdown",
   "metadata": {},
   "source": [
    "Cargamos las librerias que usaremos"
   ]
  },
  {
   "cell_type": "code",
   "execution_count": 50,
   "metadata": {},
   "outputs": [],
   "source": [
    "import pandas as pd\n",
    "import numpy as np\n",
    "import matplotlib.pyplot as plt\n",
    "from pyspark.sql import SparkSession\n",
    "from pyspark.ml.feature import VectorAssembler, PCA\n",
    "from pyspark.ml.classification import LogisticRegression, GBTClassifier\n",
    "from pyspark.sql.functions import expr, col"
   ]
  },
  {
   "cell_type": "markdown",
   "metadata": {},
   "source": [
    "Volvemos a crear una sesion con Spark y aumentar la memoria para no tener problemas luego"
   ]
  },
  {
   "cell_type": "code",
   "execution_count": 2,
   "metadata": {},
   "outputs": [],
   "source": [
    "spark = SparkSession.builder \\\n",
    "    .appName(\"ZooSpec\") \\\n",
    "    .config(\"spark.driver.memory\", \"6g\") \\\n",
    "    .getOrCreate()"
   ]
  },
  {
   "cell_type": "markdown",
   "metadata": {},
   "source": [
    "Explicacions del DataFrame que usaremos [T_F_DR14_ZooSpec_10000.csv](https://public.pic.es/s/6p3loHQQvOXPm00/download) (~95 Mb en zip, ~600 Mb una vez descomprimido):\n",
    "\n",
    "Las imágenes de galaxias tomadas por un telescopio son almacenadas en la carpeta 64x64 como imágenes JPEG de 64x64 píxeles.\n",
    "Se convertieron cada una de las imágenes en un vector de $64*64=4096$ posiciones, con los siguientes pasos:\n",
    "* Convertir la imagen en color en una imagen en blanco y negro. Cada uno de los píxeles de la imagen contiene 3 valores entre 0 y 255 correspondientes a los 3 canales RGB (R=Rojo, G=Verde, B=Azul). Podríamos decir que cada imagen está compuesta por tres matrices 64x64: MR, MG y MB, correspondientes a los canales R, G y B respectivamente. Aplicamos la siguiete fórmula para fusionar las tres matrices en una sola matriz (M) en tonos de gris: $M = 0.2989 * MR + 0.5870 * MG + 0.1140 * MB$.\n",
    "* Se reorganizo la matriz de 64x64 a un unico vector de 4096 valores.\n",
    "* Muchos algoritmos funcionan mejor si todas las variables se encuentran dentro del mismo rango de valores, típicamente [-1, 1] o [0, 1], por este motivo se normalizaron los datos dividiendo los valores por 255.\n",
    "* La variable **Target**:\n",
    "    * 0 - incierto\n",
    "    * 1 - elíptica\n",
    "    * 2 - espiral"
   ]
  },
  {
   "cell_type": "markdown",
   "metadata": {},
   "source": [
    "Este conjunto de datos tiene los campos:\n",
    "* **dr7objid​**: identificador del objeto\n",
    "* **target​**: clase del objeto según la definición anterior\n",
    "* **F0 a F4095**​: correspondientes a la tupla de 4096 atributos anteriormente descrita"
   ]
  },
  {
   "cell_type": "code",
   "execution_count": 3,
   "metadata": {},
   "outputs": [],
   "source": [
    "# Leemos los datos del archivo CSV\n",
    "df_zoo = spark.read.csv(\"csvs/T_F_DR14_ZooSpec_10000.csv\", header=True, inferSchema=True)\n",
    "\n",
    "# Registramos el DataFrame como tabla SQL\n",
    "df_zoo.createOrReplaceTempView(\"ZooSpec\")"
   ]
  },
  {
   "cell_type": "markdown",
   "metadata": {},
   "source": [
    "Veamos cuantas filas y cuantas columnas posee nuestro dataframe"
   ]
  },
  {
   "cell_type": "code",
   "execution_count": 4,
   "metadata": {},
   "outputs": [
    {
     "name": "stdout",
     "output_type": "stream",
     "text": [
      "Nuestro dataframe de spark posee 10000 observaciones o filas y 4098 variables o columnas\n"
     ]
    }
   ],
   "source": [
    "print(f'Nuestro dataframe de spark posee {df_zoo.count()} observaciones o filas y {len(df_zoo.columns)} variables o columnas')"
   ]
  },
  {
   "cell_type": "markdown",
   "metadata": {},
   "source": [
    "## Reducción de los datos: Principal Component Analysis (PCA)\n",
    "\n",
    "Los estructura resultante de los datos no es el ideal para entrenar un algoritmo de clasificación:\n",
    "* **es muy grande** 3701 filas * 4096 columnas ~ 15M de celdas\n",
    "* **es poco denso** hay pocas muestras (3701 imágenes) para el número de atributos (4096 píxeles). De intentar aplicar algunos algoritmos de clasificación sobre este conjunto de datos, podríamos incurrir en la [maldición de la dimensión (en inglés)](https://en.wikipedia.org/wiki/Curse_of_dimensionality)\n",
    "\n",
    "Para solucionar ambos problemas utilizaremos el método PCA para reducir el número de atributos."
   ]
  },
  {
   "cell_type": "markdown",
   "metadata": {},
   "source": [
    "Antes de aplicar PCA a los datos, debemos modificar el dataframe creando una columna features que agrupe todas las variables F en un vector"
   ]
  },
  {
   "cell_type": "code",
   "execution_count": 5,
   "metadata": {},
   "outputs": [],
   "source": [
    "columns = [f'F{i}' for i in range(4096)]\n",
    "\n",
    "# Combinamos las columnas de características en un solo vector\n",
    "assembler = VectorAssembler(inputCols=columns, outputCol=\"features\")\n",
    "df = assembler.transform(df_zoo)\n",
    "df = df.drop(*columns)"
   ]
  },
  {
   "cell_type": "code",
   "execution_count": 6,
   "metadata": {},
   "outputs": [
    {
     "data": {
      "text/plain": [
       "['dr7objid', 'target', 'features']"
      ]
     },
     "execution_count": 6,
     "metadata": {},
     "output_type": "execute_result"
    }
   ],
   "source": [
    "df.columns"
   ]
  },
  {
   "cell_type": "markdown",
   "metadata": {},
   "source": [
    "### Filtrado de imágenes no clasificadas\n",
    "\n",
    "Para el entrenamiento no nos hacen falta todos los datos, nos basta con los datos de aquellas imágenes que se han clasificado satisfactoriamente. Así pues, vamos a descartar aquellas imágenes cuyo campo `target` tiene valor `0`."
   ]
  },
  {
   "cell_type": "code",
   "execution_count": 7,
   "metadata": {},
   "outputs": [
    {
     "name": "stdout",
     "output_type": "stream",
     "text": [
      "+------+-----+\n",
      "|target|count|\n",
      "+------+-----+\n",
      "|     1| 1291|\n",
      "|     2| 2410|\n",
      "|     0| 6299|\n",
      "+------+-----+\n",
      "\n"
     ]
    }
   ],
   "source": [
    "# Vemos cuántas imágenes hay de cada tipo\n",
    "# 0 = incierto\n",
    "# 1 = elíptica\n",
    "# 2 = espiral\n",
    "df.groupBy('target').count().show()"
   ]
  },
  {
   "cell_type": "code",
   "execution_count": 8,
   "metadata": {},
   "outputs": [],
   "source": [
    "# Construímos un nuevo DataFrame solamente con las imágenes clasificadas\n",
    "labeled_df = df.filter(df['target'] != 0)"
   ]
  },
  {
   "cell_type": "code",
   "execution_count": 9,
   "metadata": {},
   "outputs": [
    {
     "data": {
      "text/plain": [
       "3701"
      ]
     },
     "execution_count": 9,
     "metadata": {},
     "output_type": "execute_result"
    }
   ],
   "source": [
    "# Vemos que el número de imágenes seleccionadas es coherente con la query anterior\n",
    "labeled_df.count()"
   ]
  },
  {
   "cell_type": "code",
   "execution_count": 10,
   "metadata": {},
   "outputs": [],
   "source": [
    "# Construímos otro DataFrame solamente con las imágenes no clasificadas\n",
    "unlabeled_df = df.filter(df['target'] == 0)"
   ]
  },
  {
   "cell_type": "code",
   "execution_count": 11,
   "metadata": {},
   "outputs": [
    {
     "data": {
      "text/plain": [
       "6299"
      ]
     },
     "execution_count": 11,
     "metadata": {},
     "output_type": "execute_result"
    }
   ],
   "source": [
    "unlabeled_df.count()"
   ]
  },
  {
   "cell_type": "markdown",
   "metadata": {},
   "source": [
    "Ahora que tenemos un vector con todos los valores F para cada observacion, usaremos dos metodos graficos para determinar cuantos autovectores usaremos para nuestro modelo PCA.\n",
    "Lamentablemente, en general (y en spark especificamente) el metodo de PCA es muy aleatorio de una ejecucion a otra, por lo que decidi crear una funcion que tome todos k numero de vectores de pca, y se detenga al alcanzar una varianza explicada acumulada del 95%, y ese será el numero de componentes que utilizaremos; si ese objetivo no es alcanzado, se propondra incrementar k para intentar de nuevo"
   ]
  },
  {
   "cell_type": "code",
   "execution_count": 12,
   "metadata": {},
   "outputs": [],
   "source": [
    "def aplicar_pca(data, k=100, target_variance=0.95, grafica=True):\n",
    "    # Aplica PCA para obtener los componentes\n",
    "    pca = PCA(k=k, inputCol=\"features\", outputCol=\"pca_features\")\n",
    "    pca_model = pca.fit(data)\n",
    "    \n",
    "    # Calcula la varianza explicada acumulada\n",
    "    variance_explained = pca_model.explainedVariance.toArray()\n",
    "    cumulative_variance = np.cumsum(variance_explained)\n",
    "    \n",
    "    try:\n",
    "        # Encuentra el número de componentes que alcanza al menos el target de varianza\n",
    "        num_components = np.argmax(cumulative_variance >= target_variance) + 1\n",
    "        \n",
    "        if grafica:\n",
    "            # Traza la curva de la varianza explicada acumulada\n",
    "            plt.plot(range(1, len(cumulative_variance) + 1), cumulative_variance, marker='o')\n",
    "            plt.xlabel('Número de Componentes')\n",
    "            plt.ylabel('Varianza Explicada Acumulada')\n",
    "            plt.title('Método del Codo: Varianza Explicada Acumulada')\n",
    "            plt.axvline(x=num_components, color='r', linestyle='--', label=f'{num_components} componentes')\n",
    "            plt.legend()\n",
    "            plt.show()\n",
    "\n",
    "        print(f'Número de componentes para alcanzar {target_variance*100:.2f}% de varianza explicada: {num_components}')\n",
    "\n",
    "        return pca_model.transform(data)\n",
    "    \n",
    "    except Exception:\n",
    "        print(\"No se alcanzó la varianza objetivo, pruebe aumentar el numero de componentes 'k'\")\n"
   ]
  },
  {
   "cell_type": "code",
   "execution_count": 15,
   "metadata": {},
   "outputs": [
    {
     "data": {
      "image/png": "[encoded data removed]",
      "text/plain": [
       "<Figure size 640x480 with 1 Axes>"
      ]
     },
     "metadata": {},
     "output_type": "display_data"
    },
    {
     "name": "stdout",
     "output_type": "stream",
     "text": [
      "Número de componentes para alcanzar 95.00% de varianza explicada: 59\n"
     ]
    }
   ],
   "source": [
    "labeled_df_pca = aplicar_pca(labeled_df)"
   ]
  },
  {
   "cell_type": "code",
   "execution_count": 16,
   "metadata": {},
   "outputs": [
    {
     "name": "stdout",
     "output_type": "stream",
     "text": [
      "+------------------+------+--------------------+--------------------+\n",
      "|          dr7objid|target|            features|        pca_features|\n",
      "+------------------+------+--------------------+--------------------+\n",
      "|587738947743055899|     2|[0.084831372549,0...|[-26.015051598168...|\n",
      "|587722982829850800|     2|[0.0162,0.0162,0....|[-3.9578134453189...|\n",
      "|587732771049111588|     1|[0.0264705882353,...|[-14.119484129565...|\n",
      "|587741722822180915|     1|[0.0129803921569,...|[-5.1520509599407...|\n",
      "|587742568935587892|     2|[0.0474666666667,...|[-10.890650799236...|\n",
      "|588017606293848123|     1|[0.0316509803922,...|[-4.8107026812432...|\n",
      "|587736920508399689|     2|[0.0438470588235,...|[-14.220232018174...|\n",
      "|587741600964411477|     2|[0.0229137254902,...|[-13.605746147215...|\n",
      "|587733399170515042|     2|[0.00230196078431...|[-3.5374072458329...|\n",
      "|588010360685592719|     2|[0.0158588235294,...|[-4.3049557996251...|\n",
      "|587734863221555344|     1|[0.0394078431373,...|[-4.1211074624340...|\n",
      "|587738196123975836|     1|[0.0355333333333,...|[-7.4391880968372...|\n",
      "|588017726554505374|     1|[0.0078431372549,...|[-6.5834091813429...|\n",
      "|587734863755083955|     2|[0.00279215686275...|[-7.4347065507408...|\n",
      "|587732701781885121|     1|[0.0109568627451,...|[-4.6028395661000...|\n",
      "|587738570324115489|     2|[0.235019607843,0...|[-8.1316556294939...|\n",
      "|587730773352054986|     1|[0.0245529411765,...|[-6.2783130636648...|\n",
      "|587726032229171405|     1|[0.0564,0.0328705...|[-4.5675392822146...|\n",
      "|588017948274131157|     1|[0.00812156862745...|[-3.2248241273127...|\n",
      "|587729970712871126|     2|[0.0,0.0,0.0,0.0,...|[-5.1033603555402...|\n",
      "+------------------+------+--------------------+--------------------+\n",
      "only showing top 20 rows\n",
      "\n"
     ]
    }
   ],
   "source": [
    "# mostramos el nuevo dataframe\n",
    "labeled_df_pca.show()"
   ]
  },
  {
   "cell_type": "markdown",
   "metadata": {},
   "source": [
    "Eliminamos la columna features que ya no utilizaremos"
   ]
  },
  {
   "cell_type": "code",
   "execution_count": 17,
   "metadata": {},
   "outputs": [
    {
     "data": {
      "text/plain": [
       "['dr7objid', 'target', 'pca_features']"
      ]
     },
     "execution_count": 17,
     "metadata": {},
     "output_type": "execute_result"
    }
   ],
   "source": [
    "labeled_df_pca = labeled_df_pca.drop('features')\n",
    "labeled_df_pca.columns"
   ]
  },
  {
   "cell_type": "markdown",
   "metadata": {},
   "source": [
    "# Apliquemos Machine Learning con Spark"
   ]
  },
  {
   "cell_type": "markdown",
   "metadata": {},
   "source": [
    "Para poder aplicar el modelo de regressión logística, el campo que contiene la clase, debe ser de tipo `double` (número real), mientras que ahora lo tenemos de tipo `long` (número entero). Así que lo reformateamos. De paso mapeamos el valor del target a {0, 1}\n",
    "* $elíptica: 1 => 0$\n",
    "* $espiral: 2 => 1$"
   ]
  },
  {
   "cell_type": "code",
   "execution_count": 18,
   "metadata": {},
   "outputs": [],
   "source": [
    "df = labeled_df_pca.withColumn('label', (labeled_df_pca['target'] - 1).astype('double'))['dr7objid', 'pca_features', 'label']"
   ]
  },
  {
   "cell_type": "markdown",
   "metadata": {},
   "source": [
    "## Modelo de Regresión Logística\n",
    "\n",
    "Aplicaremos un algoritmo de regresión logística para la clasificación de la imágenes de galaxias."
   ]
  },
  {
   "cell_type": "markdown",
   "metadata": {},
   "source": [
    "### Partición Test - Train\n",
    "\n",
    "Dividiremos nuestro set de datos en dos subsets:\n",
    "* ``df_train``: para el entrenamiento del modelo (Train) con un 80% de los datos\n",
    "* ``df_test``: para la validación (Test) con un 20% de los datos"
   ]
  },
  {
   "cell_type": "code",
   "execution_count": 19,
   "metadata": {},
   "outputs": [],
   "source": [
    "df_train, df_test = df.randomSplit([0.8, 0.2], seed=1)"
   ]
  },
  {
   "cell_type": "markdown",
   "metadata": {},
   "source": [
    "Entrenamos nuestro Modelo Logístico"
   ]
  },
  {
   "cell_type": "code",
   "execution_count": 20,
   "metadata": {},
   "outputs": [],
   "source": [
    "lgr = LogisticRegression(maxIter=100,\n",
    "                         featuresCol=\"pca_features\",\n",
    "                         regParam=0.005)\n",
    "                        \n",
    "model = lgr.fit(df_train)"
   ]
  },
  {
   "cell_type": "markdown",
   "metadata": {},
   "source": [
    "Aqui una lista con la explicacion de los principales parametros que podriamos personalizar:\n",
    "\n",
    "* ``maxIter``: El número máximo de iteraciones para el algoritmo de optimización. Controla cuántas veces se itera para encontrar los coeficientes óptimos.\n",
    "* ``regParam``: Parámetro de regularización para evitar el sobreajuste. Un valor mayor implica una regularización más fuerte.\n",
    "* ``threshold``: Umbral para la predicción de clase binaria.\n",
    "* ``standardization``: Si debes estandarizar las características antes de ajustar el modelo.\n",
    "*  ``tol``: se utiliza para controlar cuán pequeño debe ser el cambio en la función de pérdida entre iteraciones consecutivas para que el algoritmo considere que ha alcanzado la convergencia y termine el entrenamiento.\n",
    "\n",
    "Aqui los parametros por defecto:\n",
    "``` python\n",
    "LogisticRegression(featuresCol=\"features\", labelCol=\"label\", predictionCol=\"prediction\", maxIter=100, regParam=0.0, elasticNetParam=0.0, tol=1e-6, fitIntercept=True, threshold=0.5, thresholds=None, probabilityCol=\"probability\", rawPredictionCol=\"rawPrediction\", standardization=True, weightCol=None, aggregationDepth=2, family=\"auto\", lowerBoundsOnCoefficients=None, upperBoundsOnCoefficients=None, lowerBoundsOnIntercepts=None, upperBoundsOnIntercepts=None, maxBlockSizeInMB=0.0)\n",
    "```"
   ]
  },
  {
   "cell_type": "markdown",
   "metadata": {},
   "source": [
    "Aplicamos el modelo a nuestros datos para predecir la forma de la galaxia"
   ]
  },
  {
   "cell_type": "code",
   "execution_count": 21,
   "metadata": {},
   "outputs": [],
   "source": [
    "pred_df = model.transform(df_test)"
   ]
  },
  {
   "cell_type": "code",
   "execution_count": 22,
   "metadata": {},
   "outputs": [
    {
     "name": "stdout",
     "output_type": "stream",
     "text": [
      "+------------------+--------------------+-----+--------------------+--------------------+----------+\n",
      "|          dr7objid|        pca_features|label|       rawPrediction|         probability|prediction|\n",
      "+------------------+--------------------+-----+--------------------+--------------------+----------+\n",
      "|587722984424669303|[-3.7401839330768...|  0.0|[-0.1446072497572...|[0.46391105442056...|       1.0|\n",
      "|587725816405753868|[-4.4898010800235...|  1.0|[1.39568385781474...|[0.80149808857558...|       0.0|\n",
      "|587725816950030507|[-3.1886789098592...|  0.0|[1.09209771483619...|[0.74877652913566...|       0.0|\n",
      "|587725818026786906|[-4.3776571502360...|  0.0|[1.57795456454373...|[0.82891463934485...|       0.0|\n",
      "|587726031711371365|[-3.4194130467273...|  1.0|[-2.3535675580446...|[0.08678262136332...|       1.0|\n",
      "|587728669342564757|[-11.221781775147...|  1.0|[-0.2766341744943...|[0.43127914544912...|       1.0|\n",
      "|587728881410638072|[-5.1264397538016...|  1.0|[-1.5219604628994...|[0.17917301267254...|       1.0|\n",
      "|587728906097918315|[-4.8764496036224...|  1.0|[-4.6468990819345...|[0.00950017865139...|       1.0|\n",
      "|587729387134452014|[-3.8178519678049...|  1.0|[-2.6956473892023...|[0.06323068274584...|       1.0|\n",
      "|587729408613744873|[-3.8897727756027...|  1.0|[0.80119191016900...|[0.69022938452154...|       0.0|\n",
      "|587730022263161364|[-4.4773747927611...|  1.0|[-3.5452875702103...|[0.02805076775899...|       1.0|\n",
      "|587730773352054986|[-6.2783130636648...|  0.0|[1.94278715198303...|[0.87465802197452...|       0.0|\n",
      "|587730846893080588|[-18.267739924550...|  0.0|[-0.0324484405141...|[0.49188860156746...|       1.0|\n",
      "|587731512619892918|[-3.0349175258754...|  0.0|[0.52573721969132...|[0.62848833857067...|       0.0|\n",
      "|587732153107480732|[-3.5563141005899...|  0.0|[-2.6949952432929...|[0.06326932202437...|       1.0|\n",
      "|587732154182336616|[-9.2397282214132...|  1.0|[-3.1770459842466...|[0.04003871923760...|       1.0|\n",
      "|587732701781885121|[-4.6028395661000...|  0.0|[1.11469288016392...|[0.75300297379658...|       0.0|\n",
      "|587732701788307514|[-11.771558312829...|  0.0|[-0.2368180729834...|[0.44107063498224...|       1.0|\n",
      "|587732771049111588|[-14.119484129565...|  0.0|[2.58515402732547...|[0.92989998486914...|       0.0|\n",
      "|587733081347195107|[-20.887325304796...|  0.0|[0.75151779259702...|[0.67950932860369...|       0.0|\n",
      "+------------------+--------------------+-----+--------------------+--------------------+----------+\n",
      "only showing top 20 rows\n",
      "\n"
     ]
    }
   ],
   "source": [
    "pred_df.show()"
   ]
  },
  {
   "cell_type": "markdown",
   "metadata": {},
   "source": [
    "Creamos una funcion para medir la eficiencia de nuestro modelo"
   ]
  },
  {
   "cell_type": "code",
   "execution_count": 23,
   "metadata": {},
   "outputs": [],
   "source": [
    "def metricas(pred_df):\n",
    "    # Crea una columna que representa la predicción como int\n",
    "    pred_df = pred_df.withColumn(\"prediction_int\", expr(\"CAST(prediction AS INT)\"))\n",
    "\n",
    "    # Calcula la matriz de confusión\n",
    "    confusion_matrix = pred_df.crosstab(\"label\", \"prediction_int\").sort(\"label_prediction_int\")\n",
    "\n",
    "    # Métricas específicas\n",
    "    true_positive = confusion_matrix.filter(\"label_prediction_int = 1\").select(\"1\").collect()[0][0]\n",
    "    false_positive = confusion_matrix.filter(\"label_prediction_int = 1\").select(\"0\").collect()[0][0]\n",
    "    true_negative = confusion_matrix.filter(\"label_prediction_int = 0\").select(\"0\").collect()[0][0]\n",
    "    false_negative = confusion_matrix.filter(\"label_prediction_int = 0\").select(\"1\").collect()[0][0]\n",
    "\n",
    "    recall = true_positive / (true_positive + false_negative)\n",
    "    specificity = true_negative / (true_negative + false_positive)\n",
    "    precision = true_positive / (true_positive + false_positive)\n",
    "    accuracy = (true_positive + true_negative) / (true_positive + true_negative + false_positive + false_negative)\n",
    "    f1_score = 2 * (precision * recall) / (precision + recall)\n",
    "\n",
    "    # Imprime las métricas\n",
    "    print(\"Métricas de Evaluación:\")\n",
    "    print(f\"Recall / Sensitivity: {recall:.3f}\")\n",
    "    print(f\"Specificity: {specificity:.3f}\")\n",
    "    print(f\"Precisión: {precision:.3f}\")\n",
    "    print(f\"Accuracy: {accuracy:.3f}\")\n",
    "    print(f\"F1-score: {f1_score:.3f}\")\n",
    "\n",
    "    print(\"Matriz de Confusión:\")\n",
    "    confusion_matrix.show()"
   ]
  },
  {
   "cell_type": "code",
   "execution_count": 24,
   "metadata": {},
   "outputs": [
    {
     "name": "stdout",
     "output_type": "stream",
     "text": [
      "Métricas de Evaluación:\n",
      "Recall / Sensitivity: 0.857\n",
      "Specificity: 0.764\n",
      "Precisión: 0.862\n",
      "Accuracy: 0.823\n",
      "F1-score: 0.859\n",
      "Matriz de Confusión:\n",
      "+--------------------+---+---+\n",
      "|label_prediction_int|  0|  1|\n",
      "+--------------------+---+---+\n",
      "|                 0.0|204| 66|\n",
      "|                 1.0| 63|394|\n",
      "+--------------------+---+---+\n",
      "\n"
     ]
    }
   ],
   "source": [
    "metricas(pred_df)"
   ]
  },
  {
   "cell_type": "markdown",
   "metadata": {},
   "source": [
    "Como vemos, aunque la prediccion alcanza al 82% de accuracy, aun podriamos intentar mejor esto, es por esto que utilizaremos otro tipo de modelo. En este caso voy a utilizar un algoritmo basado en grandiente, el ``gradient boosting``."
   ]
  },
  {
   "cell_type": "markdown",
   "metadata": {},
   "source": [
    "# Modelo GBTClassifier"
   ]
  },
  {
   "cell_type": "markdown",
   "metadata": {},
   "source": [
    "``GBTClassifier`` se basa en la idea de construir árboles secuenciales, donde cada árbol intenta corregir los errores del anterior. Esta técnica es especialmente efectiva para problemas de clasificación."
   ]
  },
  {
   "cell_type": "markdown",
   "metadata": {},
   "source": [
    "Ahora creamos clasificador boosting y lo entrenamos."
   ]
  },
  {
   "cell_type": "code",
   "execution_count": 25,
   "metadata": {},
   "outputs": [],
   "source": [
    "mlp = GBTClassifier(labelCol=\"label\",\n",
    "                    featuresCol=\"pca_features\", \n",
    "                    maxIter=100, \n",
    "                    seed=1)"
   ]
  },
  {
   "cell_type": "markdown",
   "metadata": {},
   "source": [
    "Que parametros posee el modelo:\n",
    "\n",
    "``` python\n",
    "GBTClassifier(featuresCol: str = 'features', labelCol: str = 'label', predictionCol: str = 'prediction', maxDepth: int = 5, maxBins: int = 32, minInstancesPerNode: int = 1, minInfoGain: float = 0.0, maxMemoryInMB: int = 256, cacheNodeIds: bool = False, checkpointInterval: int = 10, lossType: str = 'logistic', maxIter: int = 20, stepSize: float = 0.1, seed: Optional[int] = None, subsamplingRate: float = 1.0, impurity: str = 'variance', featureSubsetStrategy: str = 'all', validationTol: float = 0.01, validationIndicatorCol: Optional[str] = None, leafCol: str = '', minWeightFractionPerNode: float = 0.0, weightCol: Optional[str] = None)\n",
    "```"
   ]
  },
  {
   "cell_type": "markdown",
   "metadata": {},
   "source": [
    "Parametros que podriamos modificar:\n",
    "\n",
    "* ``maxDepth``: La profundidad máxima de los árboles individuales. Controla la complejidad de los árboles y, por lo tanto, la capacidad de ajuste del modelo. Un valor más alto permitirá que los árboles sean más profundos, lo que puede llevar a un sobreajuste si no se controla.\n",
    "\n",
    "* ``maxBins``: El número máximo de contenedores en los que se dividen las características continuas. Un valor más alto permite capturar relaciones más complejas en los datos, pero también puede aumentar el costo computacional.\n",
    "\n",
    "* ``maxIter``: El número máximo de iteraciones (número de árboles) en el proceso de impulso. Cuantas más iteraciones, más complejo será el modelo, pero existe el riesgo de sobreajuste.\n",
    "\n",
    "* ``stepSize``: El tamaño del paso en cada iteración al buscar la dirección óptima para mejorar el modelo. Un valor más grande puede acelerar la convergencia, pero también puede hacer que se salte la solución óptima.\n",
    "\n",
    "* ``subsamplingRate``: La tasa de submuestreo que se utiliza para entrenar cada árbol. Por ejemplo, si es 0.8, se utilizará el 80% de los datos para entrenar cada árbol individualmente. Puede acelerar el entrenamiento pero también puede llevar a una menor generalización.\n",
    "\n",
    "* ``lossType``: El tipo de función de pérdida a utilizar. Puede ser \"logistic\" para clasificación binaria y \"squared\" para regresión. La pérdida logística es comúnmente utilizada en problemas de clasificación."
   ]
  },
  {
   "cell_type": "code",
   "execution_count": 26,
   "metadata": {},
   "outputs": [],
   "source": [
    "mlp_model = mlp.fit(df_train)"
   ]
  },
  {
   "cell_type": "markdown",
   "metadata": {},
   "source": [
    "Validemos el modelo, primero predecimos los valores"
   ]
  },
  {
   "cell_type": "code",
   "execution_count": 27,
   "metadata": {},
   "outputs": [],
   "source": [
    "pred_df = mlp_model.transform(df_test)"
   ]
  },
  {
   "cell_type": "code",
   "execution_count": 28,
   "metadata": {},
   "outputs": [
    {
     "name": "stdout",
     "output_type": "stream",
     "text": [
      "Métricas de Evaluación:\n",
      "Recall / Sensitivity: 0.934\n",
      "Specificity: 0.930\n",
      "Precisión: 0.961\n",
      "Accuracy: 0.933\n",
      "F1-score: 0.947\n",
      "Matriz de Confusión:\n",
      "+--------------------+---+---+\n",
      "|label_prediction_int|  0|  1|\n",
      "+--------------------+---+---+\n",
      "|                 0.0|239| 31|\n",
      "|                 1.0| 18|439|\n",
      "+--------------------+---+---+\n",
      "\n"
     ]
    }
   ],
   "source": [
    "# Llamamos a la función pasando el DataFrame de predicciones\n",
    "metricas(pred_df)"
   ]
  },
  {
   "cell_type": "markdown",
   "metadata": {},
   "source": [
    "Obtuvimos un Accuracy del 93%, bastante mejor que el obtenido con la regresion logistica"
   ]
  },
  {
   "cell_type": "markdown",
   "metadata": {},
   "source": [
    "## Clasificando las galaxias que quedan sin clasificar"
   ]
  },
  {
   "cell_type": "markdown",
   "metadata": {},
   "source": [
    "Tomaremos las observaciones guardadas en unlabeled_df y convertiremos la columna features con el algortimo de pca utilizado anteriormente y aplicamos todos los cambios que ya hicimos con las observaciones etiquetadas anteriormente"
   ]
  },
  {
   "cell_type": "code",
   "execution_count": 35,
   "metadata": {},
   "outputs": [],
   "source": [
    "pca = PCA(k=59, inputCol=\"features\", outputCol=\"pca_features\")\n",
    "model_pca = pca.fit(unlabeled_df)\n",
    "unlabeled_df_pca = model_pca.transform(unlabeled_df)"
   ]
  },
  {
   "cell_type": "code",
   "execution_count": 36,
   "metadata": {},
   "outputs": [],
   "source": [
    "unlabeled_df_pca = unlabeled_df_pca.drop('features')"
   ]
  },
  {
   "cell_type": "code",
   "execution_count": 37,
   "metadata": {},
   "outputs": [],
   "source": [
    "df_unlab = unlabeled_df_pca.withColumn('label', (unlabeled_df_pca['target'] - 1).astype('double'))['dr7objid', 'pca_features', 'label']"
   ]
  },
  {
   "cell_type": "markdown",
   "metadata": {},
   "source": [
    "Finalmente clasificamos los datos sin etiquetar"
   ]
  },
  {
   "cell_type": "code",
   "execution_count": 38,
   "metadata": {},
   "outputs": [],
   "source": [
    "unlabeled_clasificado = mlp_model.transform(df_unlab)"
   ]
  },
  {
   "cell_type": "code",
   "execution_count": 54,
   "metadata": {},
   "outputs": [
    {
     "data": {
      "text/plain": [
       "['dr7objid',\n",
       " 'pca_features',\n",
       " 'label',\n",
       " 'rawPrediction',\n",
       " 'probability',\n",
       " 'prediction']"
      ]
     },
     "execution_count": 54,
     "metadata": {},
     "output_type": "execute_result"
    }
   ],
   "source": [
    "unlabeled_clasificado.columns"
   ]
  },
  {
   "cell_type": "markdown",
   "metadata": {},
   "source": [
    "Pasamos los datos a pandas y guardamos en csv"
   ]
  },
  {
   "cell_type": "code",
   "execution_count": null,
   "metadata": {},
   "outputs": [],
   "source": [
    "df = unlabeled_clasificado.select(\"dr7objid\", \"prediction\").toPandas()\n",
    "df\n",
    "df.to_csv(\"etiquetados.csv\", index=False)"
   ]
  },
  {
   "cell_type": "code",
   "execution_count": null,
   "metadata": {},
   "outputs": [],
   "source": [
    "# Detenemos la instancia de Spark\n",
    "spark.stop()"
   ]
  }
 ],
 "metadata": {
  "kernelspec": {
   "display_name": "base",
   "language": "python",
   "name": "python3"
  },
  "language_info": {
   "codemirror_mode": {
    "name": "ipython",
    "version": 3
   },
   "file_extension": ".py",
   "mimetype": "text/x-python",
   "name": "python",
   "nbconvert_exporter": "python",
   "pygments_lexer": "ipython3",
   "version": "3.9.16"
  },
  "orig_nbformat": 4
 },
 "nbformat": 4,
 "nbformat_minor": 2
}
