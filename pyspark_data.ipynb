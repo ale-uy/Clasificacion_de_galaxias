{
 "cells": [
  {
   "cell_type": "markdown",
   "metadata": {},
   "source": [
    "# Proyecto Galaxias\n",
    "___\n",
    "## Configuramos nuestro entorno Spark"
   ]
  },
  {
   "attachments": {},
   "cell_type": "markdown",
   "metadata": {},
   "source": [
    "Antes de empezar debemos importar los paquetes y módulos que vamos a necesitar durante este análisis. En concreto, vamos a importar el paquete de visualización *matplotlib*, el módulo *Pandas* para trabajar con datos tabulares y algunas funciones de *Spark*.\n",
    "\n",
    "`Importante: La forma ideal de hacerlo es con hive teniendo hadoop instalado (por ejemplo, usando la maquina virtual gratuita de cloudera), pero para hacerlo de una manera mas amena y sin necesidad de configurar nada utilizare directamente spark en memoria para cargar los datos`"
   ]
  },
  {
   "cell_type": "code",
   "execution_count": 2,
   "metadata": {
    "collapsed": true
   },
   "outputs": [],
   "source": [
    "import pandas as pd\n",
    "from pyspark.sql import SparkSession, functions"
   ]
  },
  {
   "attachments": {},
   "cell_type": "markdown",
   "metadata": {},
   "source": [
    "En primer lugar, vamos a crear una base de datos con spark. \\\n",
    "``Nota: la mejor forma es hacerlo via hive con hadoop, crear la base hdf5 y acceder via spark``"
   ]
  },
  {
   "cell_type": "code",
   "execution_count": 2,
   "metadata": {
    "collapsed": false
   },
   "outputs": [],
   "source": [
    "# Crea una sesion sql con Spark\n",
    "spark = SparkSession.builder \\\n",
    "    .appName(\"Galaxias\") \\\n",
    "    .getOrCreate()"
   ]
  },
  {
   "attachments": {},
   "cell_type": "markdown",
   "metadata": {},
   "source": [
    "Una vez creada la base de datos con Spark, crearemos las tabla con los datos que usaremos."
   ]
  },
  {
   "cell_type": "code",
   "execution_count": 3,
   "metadata": {
    "collapsed": false
   },
   "outputs": [],
   "source": [
    "# Lee los datos de los archivos CSV y crea DataFrames\n",
    "df_user = spark.read.csv(\"csvs/usuarios.csv\", header=False, inferSchema=True)\n",
    "df_vote = spark.read.csv(\"csvs/votos.csv\", header=False, inferSchema=True)\n",
    "\n",
    "# Agrega nombres a columnas\n",
    "vote_names = [\"id_galaxia\", \"id_usuario\", \"forma\", \"tiempo\", ]\n",
    "user_names = [\"id_usuario\", \"edad\", \"pais\"]\n",
    "\n",
    "df_vote = df_vote.toDF(*vote_names)\n",
    "df_user = df_user.toDF(*user_names)\n",
    "\n",
    "# Registra los DataFrames como tablas SQL\n",
    "df_user.createOrReplaceTempView(\"usuarios\")\n",
    "df_vote.createOrReplaceTempView(\"votos\")"
   ]
  },
  {
   "cell_type": "markdown",
   "metadata": {},
   "source": [
    "Luego podemos volver a cargarlos en spark donde lo dejamos."
   ]
  },
  {
   "cell_type": "code",
   "execution_count": null,
   "metadata": {},
   "outputs": [],
   "source": [
    "# Cargar el DataFrame desde el archivo\n",
    "# df_phot = spark.read.csv(\"SDSS_PhotObj.csv\")\n",
    "\n",
    "# Registra el DataFrame cargado como tabla permanente\n",
    "# df_phot.createOrReplaceTempView(\"SDSS_PhotObj\")"
   ]
  },
  {
   "attachments": {},
   "cell_type": "markdown",
   "metadata": {},
   "source": [
    "## Estudio y limpieza de los datos de usuario\n",
    "\n",
    "Para empezar, vamos a mostrar algunos registros de usuarios usando el método *show*"
   ]
  },
  {
   "cell_type": "code",
   "execution_count": 4,
   "metadata": {
    "collapsed": false
   },
   "outputs": [
    {
     "name": "stdout",
     "output_type": "stream",
     "text": [
      "+----------+----+----------+\n",
      "|id_usuario|edad|      pais|\n",
      "+----------+----+----------+\n",
      "|         1|  39|   Bolívia|\n",
      "|         3|  40| Nicaragua|\n",
      "|         4|  36|    España|\n",
      "|         5|  26| Argentina|\n",
      "|         6|  28|Costa Rica|\n",
      "+----------+----+----------+\n",
      "only showing top 5 rows\n",
      "\n"
     ]
    }
   ],
   "source": [
    "df_user.show(5)"
   ]
  },
  {
   "attachments": {},
   "cell_type": "markdown",
   "metadata": {},
   "source": [
    "Y podemos contar cuantos usuarios han participado en total usando la método *count()*."
   ]
  },
  {
   "cell_type": "code",
   "execution_count": 5,
   "metadata": {
    "collapsed": false
   },
   "outputs": [
    {
     "data": {
      "text/plain": [
       "14919"
      ]
     },
     "execution_count": 5,
     "metadata": {},
     "output_type": "execute_result"
    }
   ],
   "source": [
    "df_user.count()"
   ]
  },
  {
   "attachments": {},
   "cell_type": "markdown",
   "metadata": {},
   "source": [
    "### País"
   ]
  },
  {
   "attachments": {},
   "cell_type": "markdown",
   "metadata": {},
   "source": [
    "Para empezar, vamos a generar un histograma con los paises de todos los usuarios que han participado en el proyecto"
   ]
  },
  {
   "cell_type": "code",
   "execution_count": 6,
   "metadata": {
    "collapsed": false
   },
   "outputs": [
    {
     "data": {
      "text/html": [
       "<div>\n",
       "<style scoped>\n",
       "    .dataframe tbody tr th:only-of-type {\n",
       "        vertical-align: middle;\n",
       "    }\n",
       "\n",
       "    .dataframe tbody tr th {\n",
       "        vertical-align: top;\n",
       "    }\n",
       "\n",
       "    .dataframe thead th {\n",
       "        text-align: right;\n",
       "    }\n",
       "</style>\n",
       "<table border=\"1\" class=\"dataframe\">\n",
       "  <thead>\n",
       "    <tr style=\"text-align: right;\">\n",
       "      <th></th>\n",
       "      <th>pais</th>\n",
       "      <th>count</th>\n",
       "    </tr>\n",
       "  </thead>\n",
       "  <tbody>\n",
       "    <tr>\n",
       "      <th>0</th>\n",
       "      <td>Paraguay</td>\n",
       "      <td>220</td>\n",
       "    </tr>\n",
       "    <tr>\n",
       "      <th>1</th>\n",
       "      <td>España</td>\n",
       "      <td>1573</td>\n",
       "    </tr>\n",
       "    <tr>\n",
       "      <th>2</th>\n",
       "      <td>Argentina</td>\n",
       "      <td>1403</td>\n",
       "    </tr>\n",
       "    <tr>\n",
       "      <th>3</th>\n",
       "      <td>Ecuador</td>\n",
       "      <td>534</td>\n",
       "    </tr>\n",
       "    <tr>\n",
       "      <th>4</th>\n",
       "      <td>Nicaragua</td>\n",
       "      <td>207</td>\n",
       "    </tr>\n",
       "  </tbody>\n",
       "</table>\n",
       "</div>"
      ],
      "text/plain": [
       "        pais  count\n",
       "0   Paraguay    220\n",
       "1     España   1573\n",
       "2  Argentina   1403\n",
       "3    Ecuador    534\n",
       "4  Nicaragua    207"
      ]
     },
     "execution_count": 6,
     "metadata": {},
     "output_type": "execute_result"
    }
   ],
   "source": [
    "hist_usuarios_pais = df_user.groupby('pais').count().toPandas()\n",
    "hist_usuarios_pais.head()"
   ]
  },
  {
   "attachments": {},
   "cell_type": "markdown",
   "metadata": {},
   "source": [
    "La celda anterior agrupa los usuarios según su país y luego cuenta el número de usuarios que hay en cada grupo (país).\n",
    "Podemos visualizar esta información con las funcionalidades de Matplotlib que están integradas en Pandas"
   ]
  },
  {
   "cell_type": "code",
   "execution_count": 10,
   "metadata": {
    "collapsed": false
   },
   "outputs": [
    {
     "data": {
      "text/plain": [
       "<Axes: xlabel='pais'>"
      ]
     },
     "execution_count": 10,
     "metadata": {},
     "output_type": "execute_result"
    },
    {
     "data": {
      "image/png": "[encoded data removed]",
      "text/plain": [
       "<Figure size 640x480 with 1 Axes>"
      ]
     },
     "metadata": {},
     "output_type": "display_data"
    }
   ],
   "source": [
    "hist_usuarios_pais.set_index('pais').plot(kind='bar')"
   ]
  },
  {
   "attachments": {},
   "cell_type": "markdown",
   "metadata": {},
   "source": [
    "Podemos ver claramente que el país que más participantes ha tenido ha sido México, y el que menos, parece ser Uruguay. Como no queda muy claro, vamos a ordenar los valores de este histograma usando el método *sort_values*"
   ]
  },
  {
   "cell_type": "code",
   "execution_count": 11,
   "metadata": {
    "collapsed": false
   },
   "outputs": [
    {
     "data": {
      "text/plain": [
       "<Axes: xlabel='pais'>"
      ]
     },
     "execution_count": 11,
     "metadata": {},
     "output_type": "execute_result"
    },
    {
     "data": {
      "image/png": "[encoded data removed]",
      "text/plain": [
       "<Figure size 640x480 with 1 Axes>"
      ]
     },
     "metadata": {},
     "output_type": "display_data"
    }
   ],
   "source": [
    "hist_usuarios_pais.set_index('pais').sort_values('count').plot(kind='bar')"
   ]
  },
  {
   "attachments": {},
   "cell_type": "markdown",
   "metadata": {},
   "source": [
    "Ahora sí podemos ver claramente que Uruguay es el país que menos participantes ha tenido, aunque seguido bien de cerca por Panamá o Puerto Rico, entre otros."
   ]
  },
  {
   "attachments": {},
   "cell_type": "markdown",
   "metadata": {},
   "source": [
    "## Edad"
   ]
  },
  {
   "attachments": {},
   "cell_type": "markdown",
   "metadata": {},
   "source": [
    "En segundo lugar, vamos a estudiar la distribución de edades de los participantes. Para ello, vamos a construir un histograma muy similar al anterior pero, en este caso, en lugar de agrupar por país, vamos a agrupar por edad"
   ]
  },
  {
   "cell_type": "code",
   "execution_count": 12,
   "metadata": {
    "collapsed": false
   },
   "outputs": [
    {
     "data": {
      "text/html": [
       "<div>\n",
       "<style scoped>\n",
       "    .dataframe tbody tr th:only-of-type {\n",
       "        vertical-align: middle;\n",
       "    }\n",
       "\n",
       "    .dataframe tbody tr th {\n",
       "        vertical-align: top;\n",
       "    }\n",
       "\n",
       "    .dataframe thead th {\n",
       "        text-align: right;\n",
       "    }\n",
       "</style>\n",
       "<table border=\"1\" class=\"dataframe\">\n",
       "  <thead>\n",
       "    <tr style=\"text-align: right;\">\n",
       "      <th></th>\n",
       "      <th>edad</th>\n",
       "      <th>count</th>\n",
       "    </tr>\n",
       "  </thead>\n",
       "  <tbody>\n",
       "    <tr>\n",
       "      <th>0</th>\n",
       "      <td>31</td>\n",
       "      <td>433</td>\n",
       "    </tr>\n",
       "    <tr>\n",
       "      <th>1</th>\n",
       "      <td>85</td>\n",
       "      <td>4</td>\n",
       "    </tr>\n",
       "    <tr>\n",
       "      <th>2</th>\n",
       "      <td>65</td>\n",
       "      <td>81</td>\n",
       "    </tr>\n",
       "    <tr>\n",
       "      <th>3</th>\n",
       "      <td>53</td>\n",
       "      <td>261</td>\n",
       "    </tr>\n",
       "    <tr>\n",
       "      <th>4</th>\n",
       "      <td>78</td>\n",
       "      <td>14</td>\n",
       "    </tr>\n",
       "  </tbody>\n",
       "</table>\n",
       "</div>"
      ],
      "text/plain": [
       "   edad  count\n",
       "0    31    433\n",
       "1    85      4\n",
       "2    65     81\n",
       "3    53    261\n",
       "4    78     14"
      ]
     },
     "execution_count": 12,
     "metadata": {},
     "output_type": "execute_result"
    }
   ],
   "source": [
    "hist_usuarios_edad = df_user.groupby('edad').count().toPandas()\n",
    "hist_usuarios_edad.head()"
   ]
  },
  {
   "attachments": {},
   "cell_type": "markdown",
   "metadata": {},
   "source": [
    "Para mostrar los datos de este histograma usaremos otro tipo de gráfico, llamado \"scatter\""
   ]
  },
  {
   "cell_type": "code",
   "execution_count": 13,
   "metadata": {
    "collapsed": false
   },
   "outputs": [
    {
     "data": {
      "text/plain": [
       "<Axes: xlabel='edad', ylabel='count'>"
      ]
     },
     "execution_count": 13,
     "metadata": {},
     "output_type": "execute_result"
    },
    {
     "data": {
      "image/png": "[encoded data removed]",
      "text/plain": [
       "<Figure size 640x480 with 1 Axes>"
      ]
     },
     "metadata": {},
     "output_type": "display_data"
    }
   ],
   "source": [
    "hist_usuarios_edad.plot('edad', 'count', kind='scatter')"
   ]
  },
  {
   "attachments": {},
   "cell_type": "markdown",
   "metadata": {},
   "source": [
    "En este gráfico podemos ver como hay participantes menores de 10 años y mayores de 100. Más adelante nos va a interesar filtrar los votos de estos usuarios, pues pueden ser poco fiables. Vamos a ver cuantos usuarios hay que tengan menos de 10 años"
   ]
  },
  {
   "cell_type": "code",
   "execution_count": 14,
   "metadata": {
    "collapsed": false
   },
   "outputs": [
    {
     "data": {
      "text/plain": [
       "8"
      ]
     },
     "execution_count": 14,
     "metadata": {},
     "output_type": "execute_result"
    }
   ],
   "source": [
    "df_user.filter('edad < 10').count()"
   ]
  },
  {
   "attachments": {},
   "cell_type": "markdown",
   "metadata": {},
   "source": [
    "Ahora queremos saber cuántos usuarios mayores de 100 años han participado"
   ]
  },
  {
   "cell_type": "code",
   "execution_count": 15,
   "metadata": {
    "collapsed": false
   },
   "outputs": [
    {
     "data": {
      "text/plain": [
       "7"
      ]
     },
     "execution_count": 15,
     "metadata": {},
     "output_type": "execute_result"
    }
   ],
   "source": [
    "df_user.filter('edad > 100').count()"
   ]
  },
  {
   "attachments": {},
   "cell_type": "markdown",
   "metadata": {},
   "source": [
    "Finalmente, vamos a generar el conjunto de datos limpio filtrando sólo los usuarios que tengan edades comprendidas entre los 10 y los 100 años, ambos incluidos. Generareos este conjunto de datos limpio y contamos cuantos usuarios nos han quedado."
   ]
  },
  {
   "cell_type": "code",
   "execution_count": 16,
   "metadata": {
    "collapsed": false
   },
   "outputs": [
    {
     "data": {
      "text/plain": [
       "14904"
      ]
     },
     "execution_count": 16,
     "metadata": {},
     "output_type": "execute_result"
    }
   ],
   "source": [
    "df_user_limpio = df_user.filter('edad >= 10 AND edad <= 100')\n",
    "df_user_limpio.count()"
   ]
  },
  {
   "attachments": {},
   "cell_type": "markdown",
   "metadata": {},
   "source": [
    "## Estudio y limpieza de los datos de votos\n",
    "\n",
    "Una vez analizados los datos de los usuarios, vamos a hacer lo mismo con los votos"
   ]
  },
  {
   "cell_type": "code",
   "execution_count": 17,
   "metadata": {
    "collapsed": false,
    "scrolled": true
   },
   "outputs": [
    {
     "name": "stdout",
     "output_type": "stream",
     "text": [
      "+------------------+----------+-----+------------------+\n",
      "|        id_galaxia|id_usuario|forma|            tiempo|\n",
      "+------------------+----------+-----+------------------+\n",
      "|587739829276311756|     10404|    1| 6.614253100388135|\n",
      "|587744728760910031|     10404|    1| 35.48928686770822|\n",
      "|587738195050823924|     10404|    0|2.5945047278529874|\n",
      "|587735349639184468|     10404|    1|3.2181662463830123|\n",
      "|588017726552015023|     10404|    1| 7.687655899222958|\n",
      "+------------------+----------+-----+------------------+\n",
      "only showing top 5 rows\n",
      "\n"
     ]
    }
   ],
   "source": [
    "df_vote.show(5)"
   ]
  },
  {
   "attachments": {},
   "cell_type": "markdown",
   "metadata": {},
   "source": [
    "Y podemos contar cuantos votos hemos recodigo en total usando la método *count()*."
   ]
  },
  {
   "cell_type": "code",
   "execution_count": 18,
   "metadata": {
    "collapsed": false
   },
   "outputs": [
    {
     "data": {
      "text/plain": [
       "379149"
      ]
     },
     "execution_count": 18,
     "metadata": {},
     "output_type": "execute_result"
    }
   ],
   "source": [
    "df_vote.count()"
   ]
  },
  {
   "attachments": {},
   "cell_type": "markdown",
   "metadata": {},
   "source": [
    "## Tiempo de respuesta\n",
    "\n",
    "Ahora vamos a estudiar la distribución del tiempo de respuesta, para ver cómo de rápido han sido los participantes a la hora de clasificar las galaxias según su forma.\n",
    "\n",
    "Como puedes observar en el resultado mostrado en la celda anterior, en este caso tenemos una complejidad adicional que es el hecho de que el tiempo de respuesta no es un valor con el cual podamos agrupar directamente, ya que no es un valor categórico y cada voto tiene un tiempo de respuesta distinto.\n",
    "\n",
    "Para poder agrupar los distintos votos, deberemos crear categorías artificiales, por ejemplo agrupando los tiempos de respuesta en bloques de un segundo. Para llevar a cabo esta agrupación podemos usar la función *floor* en la que, dado un tiempo de respuesta, nos va a devolver la parte entera despreciando la parte decimal. De esta manera, varios votos que hayan tardado 3.425, 3.019 o 3.978 segundos van a quedar agrupados en la misma categoria, los que han tardado de 3 a 4 segundos.\n",
    "\n",
    "Vamos a generar esta columna extra con el método *withColumn* aplicando esta función *floor*"
   ]
  },
  {
   "cell_type": "code",
   "execution_count": 20,
   "metadata": {
    "collapsed": false
   },
   "outputs": [
    {
     "name": "stdout",
     "output_type": "stream",
     "text": [
      "+------------------+----------+-----+------------------+--------+\n",
      "|        id_galaxia|id_usuario|forma|            tiempo|segundos|\n",
      "+------------------+----------+-----+------------------+--------+\n",
      "|587739829276311756|     10404|    1| 6.614253100388135|       6|\n",
      "|587744728760910031|     10404|    1| 35.48928686770822|      35|\n",
      "|587738195050823924|     10404|    0|2.5945047278529874|       2|\n",
      "|587735349639184468|     10404|    1|3.2181662463830123|       3|\n",
      "|588017726552015023|     10404|    1| 7.687655899222958|       7|\n",
      "|588010358014017710|     10404|    0|  9.79908988078975|       9|\n",
      "|587737826752594182|     10404|    1| 5.225004023821759|       5|\n",
      "|587739304222130394|     10404|    0| 5.303747019448238|       5|\n",
      "|587739828736032881|     10404|    1|  5.34163174692188|       5|\n",
      "|588017979433353325|     10404|    1|21.725705251771892|      21|\n",
      "+------------------+----------+-----+------------------+--------+\n",
      "only showing top 10 rows\n",
      "\n"
     ]
    }
   ],
   "source": [
    "df_vote.withColumn('segundos', functions.floor('tiempo')).show(10)"
   ]
  },
  {
   "attachments": {},
   "cell_type": "markdown",
   "metadata": {},
   "source": [
    "Ahora ya podemos agrupar por esta columna nueva y generar el histograma."
   ]
  },
  {
   "cell_type": "code",
   "execution_count": 21,
   "metadata": {
    "collapsed": false
   },
   "outputs": [
    {
     "data": {
      "text/html": [
       "<div>\n",
       "<style scoped>\n",
       "    .dataframe tbody tr th:only-of-type {\n",
       "        vertical-align: middle;\n",
       "    }\n",
       "\n",
       "    .dataframe tbody tr th {\n",
       "        vertical-align: top;\n",
       "    }\n",
       "\n",
       "    .dataframe thead th {\n",
       "        text-align: right;\n",
       "    }\n",
       "</style>\n",
       "<table border=\"1\" class=\"dataframe\">\n",
       "  <thead>\n",
       "    <tr style=\"text-align: right;\">\n",
       "      <th></th>\n",
       "      <th>segundos</th>\n",
       "      <th>count</th>\n",
       "    </tr>\n",
       "  </thead>\n",
       "  <tbody>\n",
       "    <tr>\n",
       "      <th>0</th>\n",
       "      <td>26</td>\n",
       "      <td>2407</td>\n",
       "    </tr>\n",
       "    <tr>\n",
       "      <th>1</th>\n",
       "      <td>29</td>\n",
       "      <td>1753</td>\n",
       "    </tr>\n",
       "    <tr>\n",
       "      <th>2</th>\n",
       "      <td>65</td>\n",
       "      <td>101</td>\n",
       "    </tr>\n",
       "    <tr>\n",
       "      <th>3</th>\n",
       "      <td>191</td>\n",
       "      <td>1</td>\n",
       "    </tr>\n",
       "    <tr>\n",
       "      <th>4</th>\n",
       "      <td>19</td>\n",
       "      <td>5113</td>\n",
       "    </tr>\n",
       "  </tbody>\n",
       "</table>\n",
       "</div>"
      ],
      "text/plain": [
       "   segundos  count\n",
       "0        26   2407\n",
       "1        29   1753\n",
       "2        65    101\n",
       "3       191      1\n",
       "4        19   5113"
      ]
     },
     "execution_count": 21,
     "metadata": {},
     "output_type": "execute_result"
    }
   ],
   "source": [
    "hist_votos_tiempo = df_vote.withColumn('segundos', functions.floor('tiempo')).groupby('segundos').count().toPandas()\n",
    "hist_votos_tiempo.head()"
   ]
  },
  {
   "attachments": {},
   "cell_type": "markdown",
   "metadata": {},
   "source": [
    "Visualizaremos ahora un histograma usando el gráfico de tipo \"scatter\""
   ]
  },
  {
   "cell_type": "code",
   "execution_count": 22,
   "metadata": {
    "collapsed": false
   },
   "outputs": [
    {
     "data": {
      "text/plain": [
       "<Axes: xlabel='segundos', ylabel='count'>"
      ]
     },
     "execution_count": 22,
     "metadata": {},
     "output_type": "execute_result"
    },
    {
     "data": {
      "image/png": "[encoded data removed]",
      "text/plain": [
       "<Figure size 640x480 with 1 Axes>"
      ]
     },
     "metadata": {},
     "output_type": "display_data"
    }
   ],
   "source": [
    "hist_votos_tiempo.plot('segundos', 'count', kind = 'scatter')"
   ]
  },
  {
   "attachments": {},
   "cell_type": "markdown",
   "metadata": {},
   "source": [
    "Lo primero que podemos ver en este gráfico es que parece ser que hay clasificaciones donde el usuario se ha tomado su tiempo para decidirse. Hay bastantes votos en los que el usuario ha necesitado más de 60 segundos para decidirse, incluso algunos han tardado más de 300 segundos (5 minutos). Es muy probable que no nos interese tener en cuenta estos votos, ya que la información que contienen podría ser problemática.\n",
    "\n",
    "Calcularemos el número de votos que han tomado 60 segundos o más en generarse"
   ]
  },
  {
   "cell_type": "code",
   "execution_count": 23,
   "metadata": {
    "collapsed": false
   },
   "outputs": [
    {
     "data": {
      "text/plain": [
       "2866"
      ]
     },
     "execution_count": 23,
     "metadata": {},
     "output_type": "execute_result"
    }
   ],
   "source": [
    "df_vote.filter('tiempo >= 60').count()"
   ]
  },
  {
   "attachments": {},
   "cell_type": "markdown",
   "metadata": {},
   "source": [
    "Por otro lado, en la visualización anterior perdemos el detalle de lo que sucede para tiempos reducidos. Hay un parámetro *xlim* que se le puede pasar al método *plot* para especificar el rango que queremos que nos muestre en el eje X"
   ]
  },
  {
   "cell_type": "code",
   "execution_count": 24,
   "metadata": {
    "collapsed": false
   },
   "outputs": [
    {
     "data": {
      "text/plain": [
       "<Axes: xlabel='segundos', ylabel='count'>"
      ]
     },
     "execution_count": 24,
     "metadata": {},
     "output_type": "execute_result"
    },
    {
     "data": {
      "image/png": "[encoded data removed]",
      "text/plain": [
       "<Figure size 640x480 with 1 Axes>"
      ]
     },
     "metadata": {},
     "output_type": "display_data"
    }
   ],
   "source": [
    "hist_votos_tiempo.plot('segundos', 'count', kind = 'scatter', xlim=[-1,30])"
   ]
  },
  {
   "attachments": {},
   "cell_type": "markdown",
   "metadata": {},
   "source": [
    "Podemos observar como hay algunas clasificaciones que se han realizado en menos de un segundo, ya que aparecen agrupadas en la coordenada 0. Calculamos el número de votos que se han realizado en menos de un segundo"
   ]
  },
  {
   "cell_type": "code",
   "execution_count": 25,
   "metadata": {
    "collapsed": false
   },
   "outputs": [
    {
     "data": {
      "text/plain": [
       "2639"
      ]
     },
     "execution_count": 25,
     "metadata": {},
     "output_type": "execute_result"
    }
   ],
   "source": [
    "df_vote.filter('tiempo < 1').count()"
   ]
  },
  {
   "attachments": {},
   "cell_type": "markdown",
   "metadata": {},
   "source": [
    "Observamos que hay 2639.\n",
    "\n",
    "Estos votos también podría interesarnos no tenerlos en cuenta, ya que es bastante probable que el usuario no le haya prestado suficiente atención.\n",
    "\n",
    "Vamos a generar un conjunto de datos limpio que sólo contenga los votos en los que el tiempo de respuesta sea mayor de un segundo y menor de sesenta"
   ]
  },
  {
   "cell_type": "code",
   "execution_count": 26,
   "metadata": {
    "collapsed": false
   },
   "outputs": [
    {
     "name": "stdout",
     "output_type": "stream",
     "text": [
      "+------------------+----------+-----+------------------+\n",
      "|        id_galaxia|id_usuario|forma|            tiempo|\n",
      "+------------------+----------+-----+------------------+\n",
      "|587739829276311756|     10404|    1| 6.614253100388135|\n",
      "|587744728760910031|     10404|    1| 35.48928686770822|\n",
      "|587738195050823924|     10404|    0|2.5945047278529874|\n",
      "|587735349639184468|     10404|    1|3.2181662463830123|\n",
      "|588017726552015023|     10404|    1| 7.687655899222958|\n",
      "+------------------+----------+-----+------------------+\n",
      "only showing top 5 rows\n",
      "\n"
     ]
    }
   ],
   "source": [
    "df_vote_limpio = df_vote.filter('tiempo > 1 AND tiempo < 60')\n",
    "df_vote_limpio.show(5)"
   ]
  },
  {
   "attachments": {},
   "cell_type": "markdown",
   "metadata": {},
   "source": [
    "Y, por último, usamos el método *count* en este conjunto de datos limpio para calcular cuantos votos nos han quedado después de sanear los datos."
   ]
  },
  {
   "cell_type": "code",
   "execution_count": 27,
   "metadata": {
    "collapsed": false
   },
   "outputs": [
    {
     "data": {
      "text/plain": [
       "373644"
      ]
     },
     "execution_count": 27,
     "metadata": {},
     "output_type": "execute_result"
    }
   ],
   "source": [
    "df_vote_limpio.count()"
   ]
  },
  {
   "attachments": {},
   "cell_type": "markdown",
   "metadata": {},
   "source": [
    "## Combinación de los datos limpios\n",
    "\n",
    "Ahora que tenemos los dos conjuntos de datos limpios, vamos a combinarlos para estudiarlos en su conjunto. Para ello usaremos el método *join* para combinar ambos por la columna que tienen en común, que es el identificador del usuario."
   ]
  },
  {
   "cell_type": "code",
   "execution_count": 28,
   "metadata": {
    "collapsed": false
   },
   "outputs": [
    {
     "name": "stdout",
     "output_type": "stream",
     "text": [
      "+----------+------------------+-----+------------------+----+---------+\n",
      "|id_usuario|        id_galaxia|forma|            tiempo|edad|     pais|\n",
      "+----------+------------------+-----+------------------+----+---------+\n",
      "|     10404|587739829276311756|    1| 6.614253100388135|  41|Argentina|\n",
      "|     10404|587744728760910031|    1| 35.48928686770822|  41|Argentina|\n",
      "|     10404|587738195050823924|    0|2.5945047278529874|  41|Argentina|\n",
      "|     10404|587735349639184468|    1|3.2181662463830123|  41|Argentina|\n",
      "|     10404|588017726552015023|    1| 7.687655899222958|  41|Argentina|\n",
      "|     10404|588010358014017710|    0|  9.79908988078975|  41|Argentina|\n",
      "|     10404|587737826752594182|    1| 5.225004023821759|  41|Argentina|\n",
      "|     10404|587739304222130394|    0| 5.303747019448238|  41|Argentina|\n",
      "|     10404|587739828736032881|    1|  5.34163174692188|  41|Argentina|\n",
      "|     10404|588017979433353325|    1|21.725705251771892|  41|Argentina|\n",
      "+----------+------------------+-----+------------------+----+---------+\n",
      "only showing top 10 rows\n",
      "\n"
     ]
    }
   ],
   "source": [
    "df_combinado = df_vote_limpio.join(df_user_limpio, 'id_usuario')\n",
    "df_combinado.show(10)"
   ]
  },
  {
   "attachments": {},
   "cell_type": "markdown",
   "metadata": {},
   "source": [
    "Al combinar estos dos conjuntos de datos vamos a generar un conjunto de datos aún más limpio, ya que en la combinación se van a descartar todos los votos de aquellos usuarios que hemos filtrado por estar fuera del rango de edad.\n",
    "\n",
    "Calculamos el número de registros del conjunto de datos combinados con el método *count*."
   ]
  },
  {
   "cell_type": "code",
   "execution_count": 30,
   "metadata": {
    "collapsed": false
   },
   "outputs": [
    {
     "data": {
      "text/plain": [
       "373451"
      ]
     },
     "execution_count": 30,
     "metadata": {},
     "output_type": "execute_result"
    }
   ],
   "source": [
    "df_combinado.count()"
   ]
  },
  {
   "attachments": {},
   "cell_type": "markdown",
   "metadata": {},
   "source": [
    "Obtenemos 373451, lo que nos indica que en la combinación de los dos conjuntos de datos, se han descartado $373644 - 373451 = 193$ votos adicionales.\n",
    "\n",
    "### Votos según el país\n",
    "\n",
    "Ahora que tenemos los datos combinados, podemos sacar información adicional sobre estos datos. Por ejemplo, podemos calcular el histograma de número de votos por país"
   ]
  },
  {
   "cell_type": "code",
   "execution_count": 32,
   "metadata": {
    "collapsed": false
   },
   "outputs": [
    {
     "data": {
      "text/html": [
       "<div>\n",
       "<style scoped>\n",
       "    .dataframe tbody tr th:only-of-type {\n",
       "        vertical-align: middle;\n",
       "    }\n",
       "\n",
       "    .dataframe tbody tr th {\n",
       "        vertical-align: top;\n",
       "    }\n",
       "\n",
       "    .dataframe thead th {\n",
       "        text-align: right;\n",
       "    }\n",
       "</style>\n",
       "<table border=\"1\" class=\"dataframe\">\n",
       "  <thead>\n",
       "    <tr style=\"text-align: right;\">\n",
       "      <th></th>\n",
       "      <th>pais</th>\n",
       "      <th>count</th>\n",
       "    </tr>\n",
       "  </thead>\n",
       "  <tbody>\n",
       "    <tr>\n",
       "      <th>0</th>\n",
       "      <td>Paraguay</td>\n",
       "      <td>5511</td>\n",
       "    </tr>\n",
       "    <tr>\n",
       "      <th>1</th>\n",
       "      <td>España</td>\n",
       "      <td>39367</td>\n",
       "    </tr>\n",
       "    <tr>\n",
       "      <th>2</th>\n",
       "      <td>Argentina</td>\n",
       "      <td>35385</td>\n",
       "    </tr>\n",
       "    <tr>\n",
       "      <th>3</th>\n",
       "      <td>Ecuador</td>\n",
       "      <td>13360</td>\n",
       "    </tr>\n",
       "    <tr>\n",
       "      <th>4</th>\n",
       "      <td>Nicaragua</td>\n",
       "      <td>5242</td>\n",
       "    </tr>\n",
       "  </tbody>\n",
       "</table>\n",
       "</div>"
      ],
      "text/plain": [
       "        pais  count\n",
       "0   Paraguay   5511\n",
       "1     España  39367\n",
       "2  Argentina  35385\n",
       "3    Ecuador  13360\n",
       "4  Nicaragua   5242"
      ]
     },
     "execution_count": 32,
     "metadata": {},
     "output_type": "execute_result"
    }
   ],
   "source": [
    "hist_votos_pais = df_combinado.groupby('pais').count().toPandas()\n",
    "hist_votos_pais.head()"
   ]
  },
  {
   "cell_type": "code",
   "execution_count": 34,
   "metadata": {
    "collapsed": false
   },
   "outputs": [
    {
     "data": {
      "text/plain": [
       "<Axes: xlabel='pais'>"
      ]
     },
     "execution_count": 34,
     "metadata": {},
     "output_type": "execute_result"
    },
    {
     "data": {
      "image/png": "[encoded data removed]",
      "text/plain": [
       "<Figure size 640x480 with 1 Axes>"
      ]
     },
     "metadata": {},
     "output_type": "display_data"
    }
   ],
   "source": [
    "hist_votos_pais.set_index('pais').sort_values('count').plot(kind='bar')"
   ]
  },
  {
   "attachments": {},
   "cell_type": "markdown",
   "metadata": {},
   "source": [
    "Como era de esperar México sigue liderando en el recuento de votos al tener también el mayor número de usuarios participantes.\n",
    "\n",
    "El problema con esta visualización es que no podemos determinar si los usuarios de México o los de cualquier otro país han sido más productivos que el resto. Es decir, si los usuarios de algún país han sido generado, de media, más votos de los de otros países. Para saber esto, podemos calcular el número medio de votos por usuario de cada país, dividiendo los datos de los dos histogramas (el de número de votos por país y el de número de usuarios por país)."
   ]
  },
  {
   "cell_type": "code",
   "execution_count": 35,
   "metadata": {
    "collapsed": false
   },
   "outputs": [
    {
     "data": {
      "text/html": [
       "<div>\n",
       "<style scoped>\n",
       "    .dataframe tbody tr th:only-of-type {\n",
       "        vertical-align: middle;\n",
       "    }\n",
       "\n",
       "    .dataframe tbody tr th {\n",
       "        vertical-align: top;\n",
       "    }\n",
       "\n",
       "    .dataframe thead th {\n",
       "        text-align: right;\n",
       "    }\n",
       "</style>\n",
       "<table border=\"1\" class=\"dataframe\">\n",
       "  <thead>\n",
       "    <tr style=\"text-align: right;\">\n",
       "      <th></th>\n",
       "      <th>count</th>\n",
       "    </tr>\n",
       "    <tr>\n",
       "      <th>pais</th>\n",
       "      <th></th>\n",
       "    </tr>\n",
       "  </thead>\n",
       "  <tbody>\n",
       "    <tr>\n",
       "      <th>Argentina</th>\n",
       "      <td>25.220955</td>\n",
       "    </tr>\n",
       "    <tr>\n",
       "      <th>Bolívia</th>\n",
       "      <td>25.259777</td>\n",
       "    </tr>\n",
       "    <tr>\n",
       "      <th>Chile</th>\n",
       "      <td>24.937736</td>\n",
       "    </tr>\n",
       "    <tr>\n",
       "      <th>Colombia</th>\n",
       "      <td>24.921760</td>\n",
       "    </tr>\n",
       "    <tr>\n",
       "      <th>Costa Rica</th>\n",
       "      <td>24.941935</td>\n",
       "    </tr>\n",
       "  </tbody>\n",
       "</table>\n",
       "</div>"
      ],
      "text/plain": [
       "                count\n",
       "pais                 \n",
       "Argentina   25.220955\n",
       "Bolívia     25.259777\n",
       "Chile       24.937736\n",
       "Colombia    24.921760\n",
       "Costa Rica  24.941935"
      ]
     },
     "execution_count": 35,
     "metadata": {},
     "output_type": "execute_result"
    }
   ],
   "source": [
    "hist_media_voto_pais = hist_votos_pais.set_index('pais') / hist_usuarios_pais.set_index('pais')\n",
    "hist_media_voto_pais.head()"
   ]
  },
  {
   "attachments": {},
   "cell_type": "markdown",
   "metadata": {},
   "source": [
    "Vamos a visualizar esta información ahora con un gráfico de barras."
   ]
  },
  {
   "cell_type": "code",
   "execution_count": 36,
   "metadata": {
    "collapsed": false
   },
   "outputs": [
    {
     "data": {
      "text/plain": [
       "<Axes: xlabel='pais'>"
      ]
     },
     "execution_count": 36,
     "metadata": {},
     "output_type": "execute_result"
    },
    {
     "data": {
      "image/png": "[encoded data removed]",
      "text/plain": [
       "<Figure size 640x480 with 1 Axes>"
      ]
     },
     "metadata": {},
     "output_type": "display_data"
    }
   ],
   "source": [
    "hist_media_voto_pais.plot(kind='bar')"
   ]
  },
  {
   "attachments": {},
   "cell_type": "markdown",
   "metadata": {},
   "source": [
    "A la vista de la información presentada, no parece haber diferencias significativas en la participación de los usuarios de cada país. De media, cada participante ha clasificado la forma de unas 25 galaxias.\n",
    "\n",
    "## Votos según la edad\n",
    "\n",
    "Sucederá lo mismo si estudiamos el número de votos medio segun la franja de edad?"
   ]
  },
  {
   "cell_type": "code",
   "execution_count": 38,
   "metadata": {
    "collapsed": false
   },
   "outputs": [
    {
     "data": {
      "text/html": [
       "<div>\n",
       "<style scoped>\n",
       "    .dataframe tbody tr th:only-of-type {\n",
       "        vertical-align: middle;\n",
       "    }\n",
       "\n",
       "    .dataframe tbody tr th {\n",
       "        vertical-align: top;\n",
       "    }\n",
       "\n",
       "    .dataframe thead th {\n",
       "        text-align: right;\n",
       "    }\n",
       "</style>\n",
       "<table border=\"1\" class=\"dataframe\">\n",
       "  <thead>\n",
       "    <tr style=\"text-align: right;\">\n",
       "      <th></th>\n",
       "      <th>edad</th>\n",
       "      <th>count</th>\n",
       "    </tr>\n",
       "  </thead>\n",
       "  <tbody>\n",
       "    <tr>\n",
       "      <th>0</th>\n",
       "      <td>31</td>\n",
       "      <td>9573</td>\n",
       "    </tr>\n",
       "    <tr>\n",
       "      <th>1</th>\n",
       "      <td>85</td>\n",
       "      <td>125</td>\n",
       "    </tr>\n",
       "    <tr>\n",
       "      <th>2</th>\n",
       "      <td>65</td>\n",
       "      <td>2264</td>\n",
       "    </tr>\n",
       "    <tr>\n",
       "      <th>3</th>\n",
       "      <td>53</td>\n",
       "      <td>7250</td>\n",
       "    </tr>\n",
       "    <tr>\n",
       "      <th>4</th>\n",
       "      <td>78</td>\n",
       "      <td>402</td>\n",
       "    </tr>\n",
       "  </tbody>\n",
       "</table>\n",
       "</div>"
      ],
      "text/plain": [
       "   edad  count\n",
       "0    31   9573\n",
       "1    85    125\n",
       "2    65   2264\n",
       "3    53   7250\n",
       "4    78    402"
      ]
     },
     "execution_count": 38,
     "metadata": {},
     "output_type": "execute_result"
    }
   ],
   "source": [
    "hist_votos_edad = df_combinado.groupby('edad').count().toPandas()\n",
    "hist_votos_edad.head()"
   ]
  },
  {
   "cell_type": "code",
   "execution_count": 39,
   "metadata": {
    "collapsed": false
   },
   "outputs": [
    {
     "data": {
      "text/plain": [
       "<Axes: xlabel='edad', ylabel='count'>"
      ]
     },
     "execution_count": 39,
     "metadata": {},
     "output_type": "execute_result"
    },
    {
     "data": {
      "image/png": "[encoded data removed]",
      "text/plain": [
       "<Figure size 640x480 with 1 Axes>"
      ]
     },
     "metadata": {},
     "output_type": "display_data"
    }
   ],
   "source": [
    "hist_votos_edad.plot('edad', 'count', kind='scatter')"
   ]
  },
  {
   "attachments": {},
   "cell_type": "markdown",
   "metadata": {},
   "source": [
    "A primera vista vemos una distribución del número de votos según la edad muy similar a la distribución de usuarios según la edad. Esto era esperable ya que las franjas con más usuarios también serán las que deberían haber generado más clasificaciones. Para poder salir de dudas, es necesario hacer como en el caso anterior y dividir la información de los dos histogramas para calcular el número medio de votos segun la edad."
   ]
  },
  {
   "cell_type": "code",
   "execution_count": 40,
   "metadata": {
    "collapsed": false
   },
   "outputs": [
    {
     "data": {
      "text/html": [
       "<div>\n",
       "<style scoped>\n",
       "    .dataframe tbody tr th:only-of-type {\n",
       "        vertical-align: middle;\n",
       "    }\n",
       "\n",
       "    .dataframe tbody tr th {\n",
       "        vertical-align: top;\n",
       "    }\n",
       "\n",
       "    .dataframe thead th {\n",
       "        text-align: right;\n",
       "    }\n",
       "</style>\n",
       "<table border=\"1\" class=\"dataframe\">\n",
       "  <thead>\n",
       "    <tr style=\"text-align: right;\">\n",
       "      <th></th>\n",
       "      <th>count</th>\n",
       "    </tr>\n",
       "    <tr>\n",
       "      <th>edad</th>\n",
       "      <th></th>\n",
       "    </tr>\n",
       "  </thead>\n",
       "  <tbody>\n",
       "    <tr>\n",
       "      <th>4</th>\n",
       "      <td>NaN</td>\n",
       "    </tr>\n",
       "    <tr>\n",
       "      <th>6</th>\n",
       "      <td>NaN</td>\n",
       "    </tr>\n",
       "    <tr>\n",
       "      <th>7</th>\n",
       "      <td>NaN</td>\n",
       "    </tr>\n",
       "    <tr>\n",
       "      <th>9</th>\n",
       "      <td>NaN</td>\n",
       "    </tr>\n",
       "    <tr>\n",
       "      <th>10</th>\n",
       "      <td>1.00</td>\n",
       "    </tr>\n",
       "    <tr>\n",
       "      <th>11</th>\n",
       "      <td>1.00</td>\n",
       "    </tr>\n",
       "    <tr>\n",
       "      <th>12</th>\n",
       "      <td>NaN</td>\n",
       "    </tr>\n",
       "    <tr>\n",
       "      <th>13</th>\n",
       "      <td>0.50</td>\n",
       "    </tr>\n",
       "    <tr>\n",
       "      <th>14</th>\n",
       "      <td>5.25</td>\n",
       "    </tr>\n",
       "    <tr>\n",
       "      <th>15</th>\n",
       "      <td>10.00</td>\n",
       "    </tr>\n",
       "  </tbody>\n",
       "</table>\n",
       "</div>"
      ],
      "text/plain": [
       "      count\n",
       "edad       \n",
       "4       NaN\n",
       "6       NaN\n",
       "7       NaN\n",
       "9       NaN\n",
       "10     1.00\n",
       "11     1.00\n",
       "12      NaN\n",
       "13     0.50\n",
       "14     5.25\n",
       "15    10.00"
      ]
     },
     "execution_count": 40,
     "metadata": {},
     "output_type": "execute_result"
    }
   ],
   "source": [
    "hist_media_voto_edad = hist_votos_edad.set_index('edad') / hist_usuarios_edad.set_index('edad')\n",
    "hist_media_voto_edad.head(10)"
   ]
  },
  {
   "attachments": {},
   "cell_type": "markdown",
   "metadata": {},
   "source": [
    "Los valores 'NaN' en la tabla anterior, corresponden a datos de usuarios o votos que han sido filtrados (por edad o tiempo)."
   ]
  },
  {
   "cell_type": "code",
   "execution_count": 41,
   "metadata": {
    "collapsed": false
   },
   "outputs": [
    {
     "data": {
      "text/plain": [
       "<Axes: xlabel='edad', ylabel='count'>"
      ]
     },
     "execution_count": 41,
     "metadata": {},
     "output_type": "execute_result"
    },
    {
     "data": {
      "image/png": "[encoded data removed]",
      "text/plain": [
       "<Figure size 640x480 with 1 Axes>"
      ]
     },
     "metadata": {},
     "output_type": "display_data"
    }
   ],
   "source": [
    "hist_media_voto_edad.reset_index().plot('edad', 'count', kind='scatter')"
   ]
  },
  {
   "attachments": {},
   "cell_type": "markdown",
   "metadata": {
    "collapsed": true
   },
   "source": [
    "La gráfica anterior presenta un comportamiento particular que explicare más adelante.\n",
    "\n",
    "\n",
    "#·· Generar la clasificación promedio\n",
    "\n",
    "Una vez hemos limpiado y estudiado los datos y estamos conformes con su validez, es el momento de generar la clasificación ideal de cada una de las galaxias. Para ello, vamos a promediar el voto de todos los usuarios sobre cada una de las galaxias. La forma esta codificada a numero: ``0 en caso de votar elíptica``, y ``1 en caso de votar espiral``. Si la mayoría de los usuarios han votado una imagen de una galaxia como elíptica, la media de sus votos debería ser cercana a 0. En caso contrario, si la mayoría de los votos han marcado una galaxia como espiral, la media de la columna forma debería ser cercana a 1.\n",
    "\n",
    "Antes de continuar, recordemos el aspecto del conjunto de datos combinado con el método show."
   ]
  },
  {
   "cell_type": "code",
   "execution_count": 43,
   "metadata": {
    "collapsed": false
   },
   "outputs": [
    {
     "name": "stdout",
     "output_type": "stream",
     "text": [
      "+----------+------------------+-----+------------------+----+---------+\n",
      "|id_usuario|        id_galaxia|forma|            tiempo|edad|     pais|\n",
      "+----------+------------------+-----+------------------+----+---------+\n",
      "|     10404|587739829276311756|    1| 6.614253100388135|  41|Argentina|\n",
      "|     10404|587744728760910031|    1| 35.48928686770822|  41|Argentina|\n",
      "|     10404|587738195050823924|    0|2.5945047278529874|  41|Argentina|\n",
      "|     10404|587735349639184468|    1|3.2181662463830123|  41|Argentina|\n",
      "|     10404|588017726552015023|    1| 7.687655899222958|  41|Argentina|\n",
      "+----------+------------------+-----+------------------+----+---------+\n",
      "only showing top 5 rows\n",
      "\n"
     ]
    }
   ],
   "source": [
    "df_combinado.show(5)"
   ]
  },
  {
   "attachments": {},
   "cell_type": "markdown",
   "metadata": {},
   "source": [
    "Para generar la clasificación promedio, debemos agrupar por la columna que identifica únicamente a cada galaxia y calcular la media del campo forma"
   ]
  },
  {
   "cell_type": "code",
   "execution_count": 58,
   "metadata": {
    "collapsed": false
   },
   "outputs": [
    {
     "name": "stdout",
     "output_type": "stream",
     "text": [
      "+------------------+------------------+\n",
      "|        id_galaxia|             forma|\n",
      "+------------------+------------------+\n",
      "|587739506615386262|0.7368421052631579|\n",
      "|587728879267872938|               0.5|\n",
      "|587733427088588918|0.9642857142857143|\n",
      "|587730815749849294|0.5384615384615384|\n",
      "|588017725474275701|0.8732394366197183|\n",
      "+------------------+------------------+\n",
      "only showing top 5 rows\n",
      "\n"
     ]
    }
   ],
   "source": [
    "df_clasificado = df_combinado.groupby('id_galaxia').agg(functions.avg('forma').alias('forma'))\n",
    "df_clasificado.show(5)"
   ]
  },
  {
   "cell_type": "code",
   "execution_count": 70,
   "metadata": {},
   "outputs": [
    {
     "name": "stdout",
     "output_type": "stream",
     "text": [
      "              id_galaxia     forma\n",
      "0     587739506615386262  0.736842\n",
      "1     587728879267872938  0.500000\n",
      "2     587733427088588918  0.964286\n",
      "3     587730815749849294  0.538462\n",
      "4     588017725474275701  0.873239\n",
      "...                  ...       ...\n",
      "9995  588016525560578172  0.428571\n",
      "9996  587732592251437082  0.483871\n",
      "9997  587741568198770747  0.947368\n",
      "9998  588017979986542925  0.266667\n",
      "9999  587725492670693628  0.157895\n",
      "\n",
      "[10000 rows x 2 columns]\n"
     ]
    }
   ],
   "source": [
    "a= df_clasificado.toPandas()\n",
    "print(a)"
   ]
  },
  {
   "attachments": {},
   "cell_type": "markdown",
   "metadata": {},
   "source": [
    "Podemos ver como para cada galaxia hemos obtenido su forma esperada segun la media de los votos. El último paso que nos queda es guardar esta información en otra tabla, que va a ser usada para entrenar un clasificador automatizado.\n",
    "\n",
    "**Nota: para poder guardarlo sin usar hadoop, pasare el dataframe de spark a pandas**"
   ]
  },
  {
   "cell_type": "code",
   "execution_count": 71,
   "metadata": {
    "collapsed": false
   },
   "outputs": [],
   "source": [
    "df = df_clasificado.toPandas()\n",
    "df.to_csv(\"clasificado.csv\", index=False)"
   ]
  },
  {
   "cell_type": "code",
   "execution_count": null,
   "metadata": {},
   "outputs": [],
   "source": [
    "# Detenemos la instancia de Spark\n",
    "spark.stop()"
   ]
  }
 ],
 "metadata": {
  "anaconda-cloud": {},
  "kernelspec": {
   "display_name": "base",
   "language": "python",
   "name": "python3"
  },
  "language_info": {
   "codemirror_mode": {
    "name": "ipython",
    "version": 3
   },
   "file_extension": ".py",
   "mimetype": "text/x-python",
   "name": "python",
   "nbconvert_exporter": "python",
   "pygments_lexer": "ipython3",
   "version": "3.9.16"
  }
 },
 "nbformat": 4,
 "nbformat_minor": 2
}
